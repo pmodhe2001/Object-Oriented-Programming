{
  "nbformat": 4,
  "nbformat_minor": 0,
  "metadata": {
    "colab": {
      "name": "FactoryMethod,AccessModifiers.ipynb",
      "provenance": [],
      "authorship_tag": "ABX9TyPRvrHGx19P6h40m734M8Ug",
      "include_colab_link": true
    },
    "kernelspec": {
      "name": "python3",
      "display_name": "Python 3"
    },
    "language_info": {
      "name": "python"
    }
  },
  "cells": [
    {
      "cell_type": "markdown",
      "metadata": {
        "id": "view-in-github",
        "colab_type": "text"
      },
      "source": [
        "<a href=\"https://colab.research.google.com/github/pmodhe2001/Object-Oriented-Programming/blob/main/Python/FactoryMethod%2CAccessModifiers.ipynb\" target=\"_parent\"><img src=\"https://colab.research.google.com/assets/colab-badge.svg\" alt=\"Open In Colab\"/></a>"
      ]
    },
    {
      "cell_type": "code",
      "execution_count": 1,
      "metadata": {
        "colab": {
          "base_uri": "https://localhost:8080/"
        },
        "id": "CyAaVCz80FrT",
        "outputId": "bfcc6bef-6a79-4cdc-a1c4-1b7101ac072d"
      },
      "outputs": [
        {
          "output_type": "stream",
          "name": "stdout",
          "text": [
            "voiture\n",
            "car\n",
            "coche\n",
            "bicyclette\n",
            "bike\n",
            "bicicleta\n",
            "cyclette\n",
            "cycle\n",
            "ciclo\n"
          ]
        }
      ],
      "source": [
        "#factory methods returns object of a class\n",
        "\n",
        "class FrenchLocalizer:\n",
        "\n",
        "\n",
        "\tdef __init__(self):\n",
        "\n",
        "\t\tself.translations = {\"car\": \"voiture\", \"bike\": \"bicyclette\",\n",
        "\t\t\t\t\t\t\t\"cycle\":\"cyclette\"}\n",
        "\n",
        "\tdef localize(self, msg):\n",
        "\n",
        "\t\t\n",
        "\t\treturn self.translations.get(msg, msg)\n",
        "\n",
        "class SpanishLocalizer:\n",
        "\n",
        "\n",
        "\tdef __init__(self):\n",
        "\t\tself.translations = {\"car\": \"coche\", \"bike\": \"bicicleta\",\n",
        "\t\t\t\t\t\t\t\"cycle\":\"ciclo\"}\n",
        "\n",
        "\tdef localize(self, msg):\n",
        "\n",
        "\t\t#change message using translation\n",
        "\t\treturn self.translations.get(msg, msg)\n",
        "\n",
        "class EnglishLocalizer:\n",
        "\t#return the same message\n",
        "\n",
        "\tdef localize(self, msg):\n",
        "\t\treturn msg\n",
        "\n",
        "def Factory(language =\"English\"):\n",
        "\n",
        "\t#factory method\n",
        "\tlocalizers = {\n",
        "\t\t\"French\": FrenchLocalizer,\n",
        "\t\t\"English\": EnglishLocalizer,\n",
        "\t\t\"Spanish\": SpanishLocalizer,\n",
        "\t}\n",
        "\n",
        "\treturn localizers[language]()\n",
        "\n",
        "\n",
        "\n",
        "\tf = Factory(\"French\")\n",
        "\te = Factory(\"English\")\n",
        "\ts = Factory(\"Spanish\")\n",
        "\n",
        "\tmessage = [\"car\", \"bike\", \"cycle\"]\n",
        "\n",
        "\tfor msg in message:\n",
        "\t\tprint(f.localize(msg))\n",
        "\t\tprint(e.localize(msg))\n",
        "\t\tprint(s.localize(msg))\n"
      ]
    },
    {
      "cell_type": "code",
      "source": [
        "\n",
        "class Employee:\n",
        "    def __init__(self, name, sal):\n",
        "        self.__name = name;    # private attribute \n",
        "        self.__sal = sal;      # private attribute\n",
        "\n",
        "emp = Employee(\"Prasam\", 1500000);\n",
        "emp.__sal;\n"
      ],
      "metadata": {
        "colab": {
          "base_uri": "https://localhost:8080/",
          "height": 200
        },
        "id": "Gh0gWHB3u4HO",
        "outputId": "5615e35e-4fa1-41a0-dcdb-23ec4fce4cba"
      },
      "execution_count": 21,
      "outputs": [
        {
          "output_type": "error",
          "ename": "AttributeError",
          "evalue": "ignored",
          "traceback": [
            "\u001b[0;31m---------------------------------------------------------------------------\u001b[0m",
            "\u001b[0;31mAttributeError\u001b[0m                            Traceback (most recent call last)",
            "\u001b[0;32m<ipython-input-21-a2472e1f115b>\u001b[0m in \u001b[0;36m<module>\u001b[0;34m()\u001b[0m\n\u001b[1;32m      6\u001b[0m \u001b[0;34m\u001b[0m\u001b[0m\n\u001b[1;32m      7\u001b[0m \u001b[0memp\u001b[0m \u001b[0;34m=\u001b[0m \u001b[0mEmployee\u001b[0m\u001b[0;34m(\u001b[0m\u001b[0;34m\"Prasam\"\u001b[0m\u001b[0;34m,\u001b[0m \u001b[0;36m1500000\u001b[0m\u001b[0;34m)\u001b[0m\u001b[0;34m;\u001b[0m\u001b[0;34m\u001b[0m\u001b[0;34m\u001b[0m\u001b[0m\n\u001b[0;32m----> 8\u001b[0;31m \u001b[0memp\u001b[0m\u001b[0;34m.\u001b[0m\u001b[0m__sal\u001b[0m\u001b[0;34m;\u001b[0m\u001b[0;34m\u001b[0m\u001b[0;34m\u001b[0m\u001b[0m\n\u001b[0m",
            "\u001b[0;31mAttributeError\u001b[0m: 'Employee' object has no attribute '__sal'"
          ]
        }
      ]
    }
  ]
}