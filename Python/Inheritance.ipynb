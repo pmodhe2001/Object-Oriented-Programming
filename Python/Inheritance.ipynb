{
  "nbformat": 4,
  "nbformat_minor": 0,
  "metadata": {
    "colab": {
      "name": "Inheritance.ipynb",
      "provenance": [],
      "authorship_tag": "ABX9TyNaw2FIVJPda6Z7FgjgO5h6",
      "include_colab_link": true
    },
    "kernelspec": {
      "name": "python3",
      "display_name": "Python 3"
    },
    "language_info": {
      "name": "python"
    }
  },
  "cells": [
    {
      "cell_type": "markdown",
      "metadata": {
        "id": "view-in-github",
        "colab_type": "text"
      },
      "source": [
        "<a href=\"https://colab.research.google.com/github/pmodhe2001/Object-Oriented-Programming/blob/main/Python/Inheritance.ipynb\" target=\"_parent\"><img src=\"https://colab.research.google.com/assets/colab-badge.svg\" alt=\"Open In Colab\"/></a>"
      ]
    },
    {
      "cell_type": "code",
      "execution_count": 9,
      "metadata": {
        "colab": {
          "base_uri": "https://localhost:8080/"
        },
        "id": "KRFWe_TzB672",
        "outputId": "8fb73198-2fb7-4fe6-989a-c534343ea92e"
      },
      "outputs": [
        {
          "output_type": "stream",
          "name": "stdout",
          "text": [
            "Color :  Silver\n",
            "MaxSpeed :  180\n",
            "NumGears :  4\n",
            "Is COnvertible :  False\n"
          ]
        }
      ],
      "source": [
        "#Basic of Inheritence\n",
        "\n",
        "class Vehicle:\n",
        "  def __init__(self,color,maxSpeed):\n",
        "    self.color=color #public data member\n",
        "    self.__maxSpeed=maxSpeed #private data member\n",
        "\n",
        "  #getter function to access private data member inside same class\n",
        "\n",
        "  def getMaxSpeed(self):\n",
        "    return self.__maxSpeed\n",
        "\n",
        "  #setter function to set private data member\n",
        "\n",
        "  def setMaxSpeed(self,maxSpeed):\n",
        "    self.__maxSpeed=maxSpeed \n",
        "\n",
        "  #maxspeed and color are propery of Vehicle class so we'll make print function\n",
        "\n",
        "  def print(self):\n",
        "      print(\"Color : \",self.color)\n",
        "      print(\"MaxSpeed : \",self.__maxSpeed)\n",
        "\n",
        "class Car(Vehicle):  #means car is child class and Vehicle is it's parent class\n",
        "    def __init__(self,color,maxSpeed,numGears,isConvertible):\n",
        "       super().__init__(color,maxSpeed) # super keyword to access properties from parent child\n",
        "       self.numGears=numGears\n",
        "       self.isConvertible=isConvertible\n",
        "\n",
        "    def printCar(self):\n",
        "      self.print() #no super keyword here because Car has inherited parent's properties inside constructor itslef\n",
        "      print(\"NumGears : \",self.numGears)\n",
        "      print(\"Is COnvertible : \",self.isConvertible)\n",
        "\n",
        "c=Car(\"Silver\",180,4,False)\n",
        "c.printCar()\n"
      ]
    },
    {
      "cell_type": "code",
      "source": [
        "#Multiple Inheritance\n",
        "\n",
        "class Mother:\n",
        "\n",
        "  def __init__(self):\n",
        "    self.name=\"Anushka\"\n",
        "\n",
        "  def print(self):\n",
        "    print(\"Print of Mother is called \",self.name)\n",
        "\n",
        "class Father:\n",
        "\n",
        "  def __init__(self):\n",
        "     self.name=\"Virat\"\n",
        "\n",
        "  def print(self):\n",
        "    print(\"Print of Father is called \",self.name)\n",
        "\n",
        "class Child(Father,Mother):\n",
        "\n",
        "  def __init__(self,name):\n",
        "    super().__init__()\n",
        "    #self.name=\"Vamika\"\n",
        "  \n",
        "  def printChild(self):\n",
        "    print(\"Name of child is\",self.name)\n",
        "\n",
        "c=Child(\"Prakash\")\n",
        "c.printChild()\n",
        "print(Child.mro()) #this method return list in order of method resolution"
      ],
      "metadata": {
        "colab": {
          "base_uri": "https://localhost:8080/"
        },
        "id": "Gcdk-wlqGkOQ",
        "outputId": "4d60b7d8-c2fe-4e50-cad9-ab11d4493474"
      },
      "execution_count": 15,
      "outputs": [
        {
          "output_type": "stream",
          "name": "stdout",
          "text": [
            "Name of child is Virat\n",
            "[<class '__main__.Child'>, <class '__main__.Father'>, <class '__main__.Mother'>, <class 'object'>]\n"
          ]
        }
      ]
    }
  ]
}