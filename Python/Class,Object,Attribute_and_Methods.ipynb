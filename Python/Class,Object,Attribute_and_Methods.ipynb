{
  "nbformat": 4,
  "nbformat_minor": 0,
  "metadata": {
    "colab": {
      "name": "Class,Object,Attribute and Methods.ipynb",
      "provenance": [],
      "collapsed_sections": [],
      "authorship_tag": "ABX9TyPnbeiurr6BJQXoOsxZ/22v",
      "include_colab_link": true
    },
    "kernelspec": {
      "name": "python3",
      "display_name": "Python 3"
    },
    "language_info": {
      "name": "python"
    }
  },
  "cells": [
    {
      "cell_type": "markdown",
      "metadata": {
        "id": "view-in-github",
        "colab_type": "text"
      },
      "source": [
        "<a href=\"https://colab.research.google.com/github/pmodhe2001/Object-Oriented-Programming/blob/main/Python/Class%2CObject%2CAttribute_and_Methods.ipynb\" target=\"_parent\"><img src=\"https://colab.research.google.com/assets/colab-badge.svg\" alt=\"Open In Colab\"/></a>"
      ]
    },
    {
      "cell_type": "code",
      "execution_count": null,
      "metadata": {
        "id": "f1cIoNNnKThB"
      },
      "outputs": [],
      "source": [
        "# empty class with pass keyword\n",
        "class Stud:\n",
        "  pass"
      ]
    },
    {
      "cell_type": "code",
      "source": [
        "class Stud:\n",
        "  pass\n",
        "s1= Stud() #object of Stud class\n",
        "print(type(s1))\n",
        "l=list()\n",
        "print(type(l))\n",
        "s2=Stud()\n",
        "s3=Stud()\n",
        "print(s2,s3) # address of object s2 and s3 will be printed"
      ],
      "metadata": {
        "colab": {
          "base_uri": "https://localhost:8080/"
        },
        "id": "T8mkda8fMgCW",
        "outputId": "fc1b1b41-a0c9-4206-e377-ed15e171368a"
      },
      "execution_count": null,
      "outputs": [
        {
          "output_type": "stream",
          "name": "stdout",
          "text": [
            "<class '__main__.Stud'>\n",
            "<class 'list'>\n",
            "<__main__.Stud object at 0x7fe2baa5c990> <__main__.Stud object at 0x7fe2baa5cdd0>\n"
          ]
        }
      ]
    },
    {
      "cell_type": "code",
      "source": [
        "class Student:\n",
        "  pass\n",
        "\n",
        "s1=Student()\n",
        "s2=Student()\n",
        "s3=Student()\n",
        "\n",
        "s1.name='Prathmesh'\n",
        "s2.rollno='201B204'\n",
        "s3.name='Pravishti'\n",
        "s3.rollno='201B195'\n",
        "\n",
        "print(s1.name)\n",
        "print(s2.rollno)\n",
        "print(s3.name,\" \",s3.rollno)\n",
        "\n",
        "\n",
        "#To check all attributes of an object we have a function\n",
        "print(s1.__dict__)\n",
        "print(s2.__dict__)\n",
        "print(s3.__dict__)\n",
        "\n",
        "#Has attribute function has 2 parameters first the object in which you want to check second the attribute which you want to check, Returns boolean value\n",
        "print(hasattr(s1,'rollno'))\n",
        "print(hasattr(s2,'name'))\n",
        "print(hasattr(s3,'rollno'))\n",
        "\n",
        "#Get Attribute returns value present in attribute , It has 2 parameter object and attribute , 3rd attribute is optional\n",
        "#If attribute is not present output is third parameter\n",
        "print(getattr(s1,'name'))\n",
        "print(getattr(s2,'name','Rahul'))\n",
        "\n",
        "#Deletes an attribute from a particular object , 2 parameters object name and attribute name\n",
        "delattr(s3,'rollno')\n",
        "print(s3.__dict__)"
      ],
      "metadata": {
        "colab": {
          "base_uri": "https://localhost:8080/"
        },
        "id": "yAWBrYZkNfCK",
        "outputId": "68eb1b6c-0aa5-42d7-b173-0ddb1994c3ac"
      },
      "execution_count": null,
      "outputs": [
        {
          "output_type": "stream",
          "name": "stdout",
          "text": [
            "Prathmesh\n",
            "201B204\n",
            "Pravishti   201B195\n",
            "{'name': 'Prathmesh'}\n",
            "{'rollno': '201B204'}\n",
            "{'name': 'Pravishti', 'rollno': '201B195'}\n",
            "False\n",
            "False\n",
            "True\n",
            "Prathmesh\n",
            "Rahul\n",
            "{'name': 'Pravishti'}\n"
          ]
        }
      ]
    },
    {
      "cell_type": "code",
      "source": [
        "#Instance attributes are different for different instances\n",
        "#If an object's attribute does not have it's own instance attribute it will take values of that attribute from class\n",
        "\n",
        "class Stud:\n",
        "  pp=70\n",
        "\n",
        "s1=Stud()\n",
        "s2=Stud()\n",
        "s1.pp=96\n",
        "print(s1.pp,\" \",s2.pp)"
      ],
      "metadata": {
        "colab": {
          "base_uri": "https://localhost:8080/"
        },
        "id": "xqFBGGw2wvnV",
        "outputId": "705cd5c6-c873-4458-b2c5-45d253a4e8ee"
      },
      "execution_count": null,
      "outputs": [
        {
          "output_type": "stream",
          "name": "stdout",
          "text": [
            "96   70\n"
          ]
        }
      ]
    },
    {
      "cell_type": "code",
      "source": [
        "class Student:\n",
        "  #to check instance attribute\n",
        "  passingPercentage=33\n",
        "\n",
        "#whatever object is passed in self \n",
        "  def studentDetails(self): #self is object for which function is called, whatever object is passed is stored in self\n",
        "    self.name=\"Prathmesh\"\n",
        "    print(\"Name = \", self.name)\n",
        "    self.percentage=80\n",
        "    print(\"Percentage = \",self.percentage)\n",
        "    #self.name is not an instance attribute while percentage without self. is an instance attribute\n",
        "    pass;\n",
        "\n",
        "  def isPassed(self):\n",
        "    if self.percentage > Student.passingPercentage:\n",
        "      print(\"Student is Passed \")\n",
        "    else:\n",
        "      print(\"Student is not Passed\") \n",
        "\n",
        "  @staticmethod\n",
        "  def welcometoschool():\n",
        "    print(\"Welcome to School\")\n",
        "\n",
        "s1=Student()\n",
        "s1.studentDetails()\n",
        "Student.studentDetails(s1)\n",
        "#class_name.function(object_name)\n",
        "s1.isPassed()"
      ],
      "metadata": {
        "colab": {
          "base_uri": "https://localhost:8080/"
        },
        "id": "_LBX3IPR03DU",
        "outputId": "c40d7a38-13b6-40c4-c19d-cdc3dba8cbcc"
      },
      "execution_count": 1,
      "outputs": [
        {
          "output_type": "stream",
          "name": "stdout",
          "text": [
            "Name =  Prathmesh\n",
            "Percentage =  80\n",
            "Name =  Prathmesh\n",
            "Percentage =  80\n",
            "Student is Passed \n"
          ]
        }
      ]
    }
  ]
}