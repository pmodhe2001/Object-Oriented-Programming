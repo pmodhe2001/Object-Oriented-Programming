{
  "nbformat": 4,
  "nbformat_minor": 0,
  "metadata": {
    "colab": {
      "name": "Fraction class.ipynb",
      "provenance": [],
      "authorship_tag": "ABX9TyNMDzXvAqOWz9vXirQj9GdM",
      "include_colab_link": true
    },
    "kernelspec": {
      "name": "python3",
      "display_name": "Python 3"
    },
    "language_info": {
      "name": "python"
    }
  },
  "cells": [
    {
      "cell_type": "markdown",
      "metadata": {
        "id": "view-in-github",
        "colab_type": "text"
      },
      "source": [
        "<a href=\"https://colab.research.google.com/github/pmodhe2001/Object-Oriented-Programming/blob/main/Python/Fraction_class.ipynb\" target=\"_parent\"><img src=\"https://colab.research.google.com/assets/colab-badge.svg\" alt=\"Open In Colab\"/></a>"
      ]
    },
    {
      "cell_type": "code",
      "execution_count": 4,
      "metadata": {
        "id": "DkldQxP_7M5A"
      },
      "outputs": [],
      "source": [
        "class Fraction:\n",
        "  def __init__(self,num=0,den=1):\n",
        "    if den==0:\n",
        "      den=1\n",
        "    self.num=num\n",
        "    self.den=den\n",
        "   \n",
        "  def print(self):\n",
        "    if self.num==0:\n",
        "      print(0)\n",
        "    elif self.den==1:\n",
        "      print(self.num)\n",
        "    else:\n",
        "      print(self.num,'/',self.den)\n",
        "\n",
        "  def simplify(self):\n",
        "    if self.num==0:\n",
        "      self.den==1\n",
        "      return\n",
        "    current=min(self.num,self.den)  \n",
        "    while current > 1:\n",
        "      if self.num % current ==0 and self.den % current ==0:\n",
        "        break\n",
        "      current=current-1;\n",
        "    self.num=self.num // current\n",
        "    self.den=self.den// current\n",
        "\n",
        "  def add(self,f2):\n",
        "    newNum=f2.den * self.num + f2.num*self.den\n",
        "    newDen=f2.den * self.den\n",
        "\n",
        "    self.num=newNum\n",
        "    self.den=newDen\n",
        "    self.simplify()\n",
        "\n",
        "  def multiply(self,f2):\n",
        "    newNum=f2.num * self.num\n",
        "    newDen=f2.den * self.den\n",
        "    self.num=newNum\n",
        "    self.den=newDen\n",
        "    self.simplify()"
      ]
    },
    {
      "cell_type": "code",
      "source": [
        "f1=Fraction(14,7)\n",
        "f2=Fraction(21,7)\n",
        "f1.add(f2)\n",
        "f1.print()\n",
        "f1.multiply(f2);\n",
        "f1.print()"
      ],
      "metadata": {
        "colab": {
          "base_uri": "https://localhost:8080/"
        },
        "id": "7TPiByll9E4L",
        "outputId": "e4c176ca-5fad-44c3-c99f-e11b9e85b8c2"
      },
      "execution_count": 6,
      "outputs": [
        {
          "output_type": "stream",
          "name": "stdout",
          "text": [
            "5\n",
            "15\n"
          ]
        }
      ]
    }
  ]
}