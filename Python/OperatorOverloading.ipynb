{
  "nbformat": 4,
  "nbformat_minor": 0,
  "metadata": {
    "colab": {
      "name": "OperatorOverloading.ipynb",
      "provenance": [],
      "authorship_tag": "ABX9TyP9qrIUfk3HFf9KLj5JpANL",
      "include_colab_link": true
    },
    "kernelspec": {
      "name": "python3",
      "display_name": "Python 3"
    },
    "language_info": {
      "name": "python"
    }
  },
  "cells": [
    {
      "cell_type": "markdown",
      "metadata": {
        "id": "view-in-github",
        "colab_type": "text"
      },
      "source": [
        "<a href=\"https://colab.research.google.com/github/pmodhe2001/Object-Oriented-Programming/blob/main/Python/OperatorOverloading.ipynb\" target=\"_parent\"><img src=\"https://colab.research.google.com/assets/colab-badge.svg\" alt=\"Open In Colab\"/></a>"
      ]
    },
    {
      "cell_type": "code",
      "execution_count": 1,
      "metadata": {
        "colab": {
          "base_uri": "https://localhost:8080/"
        },
        "id": "9Iot0h5BVYIQ",
        "outputId": "97231d42-93ff-4645-d8a6-4cb46c91dce0"
      },
      "outputs": [
        {
          "output_type": "stream",
          "name": "stdout",
          "text": [
            "This point is at (4,6)\n",
            "True\n"
          ]
        }
      ],
      "source": [
        "import math\n",
        "class Point:\n",
        "  def __init__(self,x,y):\n",
        "    self.__x=x\n",
        "    self.__y=y\n",
        "\n",
        "  def __str__(self):\n",
        "    return \"This point is at (\" + str(self.__x) + \",\" + str(self.__y) + \")\"\n",
        "\n",
        "  def __add__(self,point_obj):\n",
        "    return Point(self.__x + point_obj.__x,self.__y + point_obj.__y)\n",
        "\n",
        "  def __lt__(self,point_obj):\n",
        "    return math.sqrt(self.__x**2 + self.__y**2) < math.sqrt(point_obj.__x**2 + point_obj.__y**2)\n",
        "\n",
        "p1=Point(1,2)\n",
        "p2=Point(3,4)\n",
        "p3=p1+p2\n",
        "print(p3)\n",
        "print(p1<p2)"
      ]
    }
  ]
}