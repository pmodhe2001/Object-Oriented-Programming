{
  "nbformat": 4,
  "nbformat_minor": 0,
  "metadata": {
    "colab": {
      "name": "Complex Number.ipynb",
      "provenance": [],
      "authorship_tag": "ABX9TyMJtB4JeIZUQv0AGoJbtbdM",
      "include_colab_link": true
    },
    "kernelspec": {
      "name": "python3",
      "display_name": "Python 3"
    },
    "language_info": {
      "name": "python"
    }
  },
  "cells": [
    {
      "cell_type": "markdown",
      "metadata": {
        "id": "view-in-github",
        "colab_type": "text"
      },
      "source": [
        "<a href=\"https://colab.research.google.com/github/pmodhe2001/Object-Oriented-Programming/blob/main/Python/Complex_Number.ipynb\" target=\"_parent\"><img src=\"https://colab.research.google.com/assets/colab-badge.svg\" alt=\"Open In Colab\"/></a>"
      ]
    },
    {
      "cell_type": "code",
      "execution_count": 4,
      "metadata": {
        "id": "k1ev_7at_RPG"
      },
      "outputs": [],
      "source": [
        "class Complex:\n",
        "  def __init__(self,real,img):\n",
        "    self.real=real\n",
        "    self.img=img\n",
        "\n",
        "  def print(self):\n",
        "    if self.img<0:\n",
        "      print(self.real,'-i ',end=\"\")\n",
        "      print(self.img*-1)\n",
        "    else:\n",
        "      print(self.real,'+i ',end=\"\")\n",
        "      print(self.img)\n",
        "\n",
        "  def add(self,c2):\n",
        "    newReal=self.real + c2.real\n",
        "    newImg=self.img + c2.img\n",
        "    self.real=newReal\n",
        "    self.img=newImg\n",
        "\n",
        "  def multiply(self,c2):\n",
        "    newReal = self.real * c2.real - self.img * c2.img\n",
        "    newImg = self.img * c2.real + self.real * c2.img\n",
        "    self.real=newReal\n",
        "    self.img=newImg\n",
        "\n",
        "  def conjunction(self):\n",
        "    self.real=self.real\n",
        "    self.img=self.img * -1\n"
      ]
    },
    {
      "cell_type": "code",
      "source": [
        "c1=Complex(2,2)\n",
        "c2=Complex(8,8)\n",
        "c1.add(c2)\n",
        "c1.print()\n",
        "c1.multiply(c2)\n",
        "c1.print()\n",
        "c1.conjunction()\n",
        "c1.print()"
      ],
      "metadata": {
        "colab": {
          "base_uri": "https://localhost:8080/"
        },
        "id": "_49KVPcrA3HT",
        "outputId": "b69418b5-0d29-4164-bc9a-ad6e14767a28"
      },
      "execution_count": 5,
      "outputs": [
        {
          "output_type": "stream",
          "name": "stdout",
          "text": [
            "10 +i 10\n",
            "0 +i 160\n",
            "0 -i 160\n"
          ]
        }
      ]
    }
  ]
}