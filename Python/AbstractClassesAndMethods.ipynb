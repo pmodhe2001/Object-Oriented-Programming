{
  "nbformat": 4,
  "nbformat_minor": 0,
  "metadata": {
    "colab": {
      "name": "AbstractClassesAndMethods.ipynb",
      "provenance": [],
      "authorship_tag": "ABX9TyMuuA4LfpHTYj8glQVOihM4",
      "include_colab_link": true
    },
    "kernelspec": {
      "name": "python3",
      "display_name": "Python 3"
    },
    "language_info": {
      "name": "python"
    }
  },
  "cells": [
    {
      "cell_type": "markdown",
      "metadata": {
        "id": "view-in-github",
        "colab_type": "text"
      },
      "source": [
        "<a href=\"https://colab.research.google.com/github/pmodhe2001/Object-Oriented-Programming/blob/main/Python/AbstractClassesAndMethods.ipynb\" target=\"_parent\"><img src=\"https://colab.research.google.com/assets/colab-badge.svg\" alt=\"Open In Colab\"/></a>"
      ]
    },
    {
      "cell_type": "code",
      "execution_count": 2,
      "metadata": {
        "colab": {
          "base_uri": "https://localhost:8080/"
        },
        "id": "l3XTKpX6IDSV",
        "outputId": "f349c515-c21d-4ae3-d9be-e12c711ff4c0"
      },
      "outputs": [
        {
          "output_type": "stream",
          "name": "stdout",
          "text": [
            "Car is created\n"
          ]
        }
      ],
      "source": [
        "from abc import ABC,abstractmethod\n",
        "\n",
        "class Automobile(ABC):\n",
        "\n",
        "  def __init__(self):\n",
        "    print(\"Automobile created\")\n",
        "\n",
        "  @abstractmethod\n",
        "  def start(self):\n",
        "    pass\n",
        "  @abstractmethod\n",
        "  def stop(self):\n",
        "    pass\n",
        "  @abstractmethod\n",
        "  def drive(self):\n",
        "    pass\n",
        "\n",
        "class Car(Automobile):\n",
        "\n",
        "  def __init__(self,name):\n",
        "    print(\"Car is created\")\n",
        "    self.name=name\n",
        "\n",
        "  def start(self):\n",
        "    pass\n",
        "\n",
        "  def stop(self):\n",
        "    pass\n",
        "\n",
        "  def drive(self):\n",
        "    pass\n",
        "\n",
        "class Bus(Automobile):\n",
        "  def __init__(self,name):\n",
        "    print(\"Bus created\")\n",
        "    self.name=name\n",
        "\n",
        "'''\n",
        "Object of abstract class can not be created\n",
        "Implement all abstract class method in child class\n",
        "'''\n",
        "c=Car(\"Honda\")\n"
      ]
    }
  ]
}